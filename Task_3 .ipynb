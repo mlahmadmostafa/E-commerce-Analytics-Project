{
 "cells": [
  {
   "cell_type": "markdown",
   "metadata": {},
   "source": [
    "# Data Cleaning\n"
   ]
  },
  {
   "cell_type": "code",
   "execution_count": 3,
   "metadata": {},
   "outputs": [
    {
     "name": "stderr",
     "output_type": "stream",
     "text": [
      "/var/folders/w_/by6jwxr56y37ngmjq894222w0000gn/T/ipykernel_6593/854376136.py:17: SettingWithCopyWarning: \n",
      "A value is trying to be set on a copy of a slice from a DataFrame.\n",
      "Try using .loc[row_indexer,col_indexer] = value instead\n",
      "\n",
      "See the caveats in the documentation: https://pandas.pydata.org/pandas-docs/stable/user_guide/indexing.html#returning-a-view-versus-a-copy\n",
      "  data_cleaned['InvoiceDate'] = pd.to_datetime(data_cleaned['InvoiceDate'], errors='coerce')\n"
     ]
    },
    {
     "data": {
      "text/html": [
       "<div>\n",
       "<style scoped>\n",
       "    .dataframe tbody tr th:only-of-type {\n",
       "        vertical-align: middle;\n",
       "    }\n",
       "\n",
       "    .dataframe tbody tr th {\n",
       "        vertical-align: top;\n",
       "    }\n",
       "\n",
       "    .dataframe thead th {\n",
       "        text-align: right;\n",
       "    }\n",
       "</style>\n",
       "<table border=\"1\" class=\"dataframe\">\n",
       "  <thead>\n",
       "    <tr style=\"text-align: right;\">\n",
       "      <th></th>\n",
       "      <th>InvoiceNo</th>\n",
       "      <th>StockCode</th>\n",
       "      <th>Description</th>\n",
       "      <th>Quantity</th>\n",
       "      <th>InvoiceDate</th>\n",
       "      <th>UnitPrice</th>\n",
       "      <th>CustomerID</th>\n",
       "      <th>Country</th>\n",
       "      <th>TotalPrice</th>\n",
       "    </tr>\n",
       "  </thead>\n",
       "  <tbody>\n",
       "    <tr>\n",
       "      <th>0</th>\n",
       "      <td>536365</td>\n",
       "      <td>85123A</td>\n",
       "      <td>WHITE HANGING HEART T-LIGHT HOLDER</td>\n",
       "      <td>6</td>\n",
       "      <td>2010-12-01 08:26:00</td>\n",
       "      <td>2.55</td>\n",
       "      <td>17850.0</td>\n",
       "      <td>United Kingdom</td>\n",
       "      <td>15.30</td>\n",
       "    </tr>\n",
       "    <tr>\n",
       "      <th>1</th>\n",
       "      <td>536365</td>\n",
       "      <td>71053</td>\n",
       "      <td>WHITE METAL LANTERN</td>\n",
       "      <td>6</td>\n",
       "      <td>2010-12-01 08:26:00</td>\n",
       "      <td>3.39</td>\n",
       "      <td>17850.0</td>\n",
       "      <td>United Kingdom</td>\n",
       "      <td>20.34</td>\n",
       "    </tr>\n",
       "    <tr>\n",
       "      <th>2</th>\n",
       "      <td>536365</td>\n",
       "      <td>84406B</td>\n",
       "      <td>CREAM CUPID HEARTS COAT HANGER</td>\n",
       "      <td>8</td>\n",
       "      <td>2010-12-01 08:26:00</td>\n",
       "      <td>2.75</td>\n",
       "      <td>17850.0</td>\n",
       "      <td>United Kingdom</td>\n",
       "      <td>22.00</td>\n",
       "    </tr>\n",
       "    <tr>\n",
       "      <th>3</th>\n",
       "      <td>536365</td>\n",
       "      <td>84029G</td>\n",
       "      <td>KNITTED UNION FLAG HOT WATER BOTTLE</td>\n",
       "      <td>6</td>\n",
       "      <td>2010-12-01 08:26:00</td>\n",
       "      <td>3.39</td>\n",
       "      <td>17850.0</td>\n",
       "      <td>United Kingdom</td>\n",
       "      <td>20.34</td>\n",
       "    </tr>\n",
       "    <tr>\n",
       "      <th>4</th>\n",
       "      <td>536365</td>\n",
       "      <td>84029E</td>\n",
       "      <td>RED WOOLLY HOTTIE WHITE HEART.</td>\n",
       "      <td>6</td>\n",
       "      <td>2010-12-01 08:26:00</td>\n",
       "      <td>3.39</td>\n",
       "      <td>17850.0</td>\n",
       "      <td>United Kingdom</td>\n",
       "      <td>20.34</td>\n",
       "    </tr>\n",
       "  </tbody>\n",
       "</table>\n",
       "</div>"
      ],
      "text/plain": [
       "  InvoiceNo StockCode                          Description  Quantity  \\\n",
       "0    536365    85123A   WHITE HANGING HEART T-LIGHT HOLDER         6   \n",
       "1    536365     71053                  WHITE METAL LANTERN         6   \n",
       "2    536365    84406B       CREAM CUPID HEARTS COAT HANGER         8   \n",
       "3    536365    84029G  KNITTED UNION FLAG HOT WATER BOTTLE         6   \n",
       "4    536365    84029E       RED WOOLLY HOTTIE WHITE HEART.         6   \n",
       "\n",
       "          InvoiceDate  UnitPrice  CustomerID         Country  TotalPrice  \n",
       "0 2010-12-01 08:26:00       2.55     17850.0  United Kingdom       15.30  \n",
       "1 2010-12-01 08:26:00       3.39     17850.0  United Kingdom       20.34  \n",
       "2 2010-12-01 08:26:00       2.75     17850.0  United Kingdom       22.00  \n",
       "3 2010-12-01 08:26:00       3.39     17850.0  United Kingdom       20.34  \n",
       "4 2010-12-01 08:26:00       3.39     17850.0  United Kingdom       20.34  "
      ]
     },
     "execution_count": 3,
     "metadata": {},
     "output_type": "execute_result"
    }
   ],
   "source": [
    "import pandas as pd\n",
    "import matplotlib.pyplot as plt\n",
    "import numpy as np\n",
    "\n",
    "# 1.Load the dataset\n",
    "file_path = 'data.csv'  \n",
    "try:\n",
    "    data = pd.read_csv(file_path, encoding='ISO-8859-1')\n",
    "except FileNotFoundError:\n",
    "    print(\"Data Not Found !!!!\")\n",
    "\n",
    "# 2.Handle missing values in CustomerID\n",
    "data_cleaned = data.dropna(subset=['CustomerID'])\n",
    "\n",
    "# 3.Convert InvoiceDate to datetime type\n",
    "if 'InvoiceDate' in data_cleaned.columns:\n",
    "    data_cleaned['InvoiceDate'] = pd.to_datetime(data_cleaned['InvoiceDate'], errors='coerce')\n",
    "\n",
    "# 4.Remove rows with negative Quantity or UnitPrice\n",
    "if 'Quantity' in data_cleaned.columns and 'UnitPrice' in data_cleaned.columns:\n",
    "    data_cleaned = data_cleaned[(data_cleaned['Quantity'] >= 0) & (data_cleaned['UnitPrice'] >= 0)]\n",
    "\n",
    "# 5.Create a TotalPrice column\n",
    "if 'Quantity' in data_cleaned.columns and 'UnitPrice' in data_cleaned.columns:\n",
    "    data_cleaned['TotalPrice'] = data_cleaned['Quantity'] * data_cleaned['UnitPrice']\n",
    "\n",
    "# Save the cleaned data\n",
    "output_path = 'cleaned_data.csv'\n",
    "data_cleaned.to_csv(output_path, index=False)\n",
    "\n",
    "data_cleaned.head()  \n"
   ]
  },
  {
   "cell_type": "markdown",
   "metadata": {},
   "source": [
    "# Exploratory Data Analysis (EDA)"
   ]
  },
  {
   "cell_type": "code",
   "execution_count": 4,
   "metadata": {},
   "outputs": [
    {
     "name": "stdout",
     "output_type": "stream",
     "text": [
      "Statistical Summary:\n",
      "             Quantity                    InvoiceDate      UnitPrice  \\\n",
      "count  397924.000000                         397924  397924.000000   \n",
      "mean       13.021823  2011-07-10 23:43:36.912475648       3.116174   \n",
      "min         1.000000            2010-12-01 08:26:00       0.000000   \n",
      "25%         2.000000            2011-04-07 11:12:00       1.250000   \n",
      "50%         6.000000            2011-07-31 14:39:00       1.950000   \n",
      "75%        12.000000            2011-10-20 14:33:00       3.750000   \n",
      "max     80995.000000            2011-12-09 12:50:00    8142.750000   \n",
      "std       180.420210                            NaN      22.096788   \n",
      "\n",
      "          CustomerID     TotalPrice  \n",
      "count  397924.000000  397924.000000  \n",
      "mean    15294.315171      22.394749  \n",
      "min     12346.000000       0.000000  \n",
      "25%     13969.000000       4.680000  \n",
      "50%     15159.000000      11.800000  \n",
      "75%     16795.000000      19.800000  \n",
      "max     18287.000000  168469.600000  \n",
      "std      1713.169877     309.055588  \n"
     ]
    }
   ],
   "source": [
    "# 1. Perform a statistical summary of the dataset\n",
    "stat_summary = data_cleaned.describe()\n",
    "\n",
    "print(\"Statistical Summary:\\n\", stat_summary)"
   ]
  },
  {
   "cell_type": "code",
   "execution_count": 5,
   "metadata": {},
   "outputs": [
    {
     "name": "stdout",
     "output_type": "stream",
     "text": [
      "\n",
      "Top 10 Selling Products by Quantity:\n",
      " StockCode\n",
      "23843     80995\n",
      "23166     77916\n",
      "84077     54415\n",
      "22197     49183\n",
      "85099B    46181\n",
      "85123A    36782\n",
      "84879     35362\n",
      "21212     33693\n",
      "23084     27202\n",
      "22492     26076\n",
      "Name: Quantity, dtype: int64\n"
     ]
    }
   ],
   "source": [
    "# 2. Identify the top 10 selling products by Quantity\n",
    "top_selling_products = data_cleaned.groupby('StockCode')['Quantity'].sum().nlargest(10)\n",
    "\n",
    "print(\"\\nTop 10 Selling Products by Quantity:\\n\", top_selling_products)\n"
   ]
  },
  {
   "cell_type": "code",
   "execution_count": 6,
   "metadata": {},
   "outputs": [
    {
     "name": "stdout",
     "output_type": "stream",
     "text": [
      "\n",
      "Total Revenue: 8911407.904\n",
      "Number of Transactions: 18536\n"
     ]
    }
   ],
   "source": [
    "# 3. Calculate total revenue and number of transactions\n",
    "total_revenue = data_cleaned['TotalPrice'].sum()\n",
    "number_of_transactions = data_cleaned['InvoiceNo'].nunique()\n",
    "\n",
    "print(f\"\\nTotal Revenue: {total_revenue}\")\n",
    "print(f\"Number of Transactions: {number_of_transactions}\")\n"
   ]
  },
  {
   "cell_type": "code",
   "execution_count": 7,
   "metadata": {},
   "outputs": [
    {
     "name": "stdout",
     "output_type": "stream",
     "text": [
      "\n",
      "Data Types of Each Column:\n",
      " InvoiceNo              object\n",
      "StockCode              object\n",
      "Description            object\n",
      "Quantity                int64\n",
      "InvoiceDate    datetime64[ns]\n",
      "UnitPrice             float64\n",
      "CustomerID            float64\n",
      "Country                object\n",
      "TotalPrice            float64\n",
      "dtype: object\n"
     ]
    }
   ],
   "source": [
    "# 4. Check the data types of each column\n",
    "column_data_types = data_cleaned.dtypes\n",
    "\n",
    "print(\"\\nData Types of Each Column:\\n\", column_data_types)\n"
   ]
  },
  {
   "cell_type": "code",
   "execution_count": 8,
   "metadata": {},
   "outputs": [],
   "source": [
    "data_cleaned['Date'] = pd.to_datetime(data_cleaned['InvoiceDate'])"
   ]
  },
  {
   "cell_type": "markdown",
   "metadata": {},
   "source": [
    "Preparing the time series"
   ]
  },
  {
   "cell_type": "code",
   "execution_count": 9,
   "metadata": {},
   "outputs": [
    {
     "data": {
      "text/plain": [
       "Date\n",
       "2010-12-01     572713.890\n",
       "2011-01-01     569445.040\n",
       "2011-02-01     447137.350\n",
       "2011-03-01     595500.760\n",
       "2011-04-01     469200.361\n",
       "2011-05-01     678594.560\n",
       "2011-06-01     661213.690\n",
       "2011-07-01     600091.011\n",
       "2011-08-01     645343.900\n",
       "2011-09-01     952838.382\n",
       "2011-10-01    1039318.790\n",
       "2011-11-01    1161817.380\n",
       "2011-12-01     518192.790\n",
       "Freq: MS, Name: TotalPrice, dtype: float64"
      ]
     },
     "execution_count": 9,
     "metadata": {},
     "output_type": "execute_result"
    }
   ],
   "source": [
    "monthly_sales = data_cleaned.groupby(data_cleaned['Date'].dt.to_period('M'))['TotalPrice'].sum()\n",
    "monthly_sales.index = monthly_sales.index.to_timestamp()\n",
    "monthly_sales"
   ]
  },
  {
   "cell_type": "markdown",
   "metadata": {},
   "source": [
    "Requirment 3: Time Series Analysis"
   ]
  },
  {
   "cell_type": "code",
   "execution_count": 10,
   "metadata": {},
   "outputs": [
    {
     "data": {
      "image/png": "[encoded data removed]",
      "text/plain": [
       "<Figure size 1000x600 with 1 Axes>"
      ]
     },
     "metadata": {},
     "output_type": "display_data"
    }
   ],
   "source": [
    "plt.figure(figsize=(10, 6))  \n",
    "plt.plot(monthly_sales.index.strftime('%Y-%m'), monthly_sales.values , marker='o', linestyle='-', color='b', label='Sales')\n",
    "\n",
    "max_month = monthly_sales.idxmax()\n",
    "min_month = monthly_sales.idxmin()\n",
    "\n",
    "plt.annotate(f\"Highest Sales: {max_month.strftime('%Y-%m')} ({int(monthly_sales[max_month]):,})\", \n",
    "             xy=(0.02, 0.95), xycoords='axes fraction', fontsize=10, color='green')\n",
    "\n",
    "plt.annotate(f\"Lowest Sales: {min_month.strftime('%Y-%m')} ({int(monthly_sales[min_month]):,})\", \n",
    "             xy=(0.02, 0.90), xycoords='axes fraction', fontsize=10, color='red')\n",
    "\n",
    "plt.xlabel('Month')\n",
    "plt.ylabel('Total sales')\n",
    "plt.title('Total sales Over Months')\n",
    "plt.xticks(rotation=45)\n",
    "plt.legend()\n",
    "plt.grid(True)\n",
    "plt.gca().yaxis.set_major_formatter(plt.FuncFormatter(lambda x, loc: \"{:,}\".format(int(x))))  \n",
    "plt.show()"
   ]
  }
 ],
 "metadata": {
  "kernelspec": {
   "display_name": "Python 3",
   "language": "python",
   "name": "python3"
  },
  "language_info": {
   "codemirror_mode": {
    "name": "ipython",
    "version": 3
   },
   "file_extension": ".py",
   "mimetype": "text/x-python",
   "name": "python",
   "nbconvert_exporter": "python",
   "pygments_lexer": "ipython3",
   "version": "3.13.1"
  }
 },
 "nbformat": 4,
 "nbformat_minor": 2
}
