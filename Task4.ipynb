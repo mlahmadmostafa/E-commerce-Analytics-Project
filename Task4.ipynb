{
 "cells": [
  {
   "cell_type": "markdown",
   "metadata": {},
   "source": [
    "## Task 4: RFM Analysis (Customer Segmentation)"
   ]
  },
  {
   "cell_type": "code",
   "execution_count": 18,
   "metadata": {},
   "outputs": [],
   "source": [
    "import pandas as pd\n",
    "import matplotlib.pyplot as plt\n",
    "import seaborn as sns\n"
   ]
  },
  {
   "cell_type": "markdown",
   "metadata": {},
   "source": [
    "#### Load and Prepare the Data"
   ]
  },
  {
   "cell_type": "code",
   "execution_count": 29,
   "metadata": {},
   "outputs": [],
   "source": [
    "# Load the cleaned data from a CSV file into a Pandas DataFrame\n",
    "data = pd.read_csv('cleaned_data.csv')\n",
    "data['CustomerID']=data['CustomerID'].astype('Int64')\n",
    "# Convert the 'InvoiceDate' column to a datetime format for accurate date and time operations\n",
    "data['InvoiceDate'] = pd.to_datetime(data['InvoiceDate'])\n"
   ]
  },
  {
   "cell_type": "markdown",
   "metadata": {},
   "source": [
    "#### Calculate RFM Metrics"
   ]
  },
  {
   "cell_type": "code",
   "execution_count": 30,
   "metadata": {},
   "outputs": [
    {
     "name": "stdout",
     "output_type": "stream",
     "text": [
      "      CustomerID  Recency  Frequency  Monetary\n",
      "0          12346      326          1  77183.60\n",
      "1          12347        2          7   4310.00\n",
      "2          12348       75          4   1797.24\n",
      "3          12349       19          1   1757.55\n",
      "4          12350      310          1    334.40\n",
      "...          ...      ...        ...       ...\n",
      "4334       18280      278          1    180.60\n",
      "4335       18281      181          1     80.82\n",
      "4336       18282        8          2    178.05\n",
      "4337       18283        4         16   2094.88\n",
      "4338       18287       43          3   1837.28\n",
      "\n",
      "[4339 rows x 4 columns]\n"
     ]
    }
   ],
   "source": [
    "# Define a reference date to calculate Recency\n",
    "# Using the maximum InvoiceDate in the dataset and adding 1 day to ensure the calculation of the days since the last purchase is accurate\n",
    "\n",
    "analysis_date = data['InvoiceDate'].max() + pd.DateOffset(days=1)\n",
    "\n",
    "# Calculate RFM metrics for each customer\n",
    "rfm = data.groupby('CustomerID').agg({\n",
    "    'InvoiceDate': lambda x: (analysis_date - x.max()).days,# Recency: Calculate days since the last purchase\n",
    "    'InvoiceNo': 'nunique',                                 # Frequency: Count the number of unique invoices (purchases)\n",
    "    'TotalPrice': 'sum'                                     # Monetary: Sum up the total price spent by the customer\n",
    "}).reset_index()\n",
    "\n",
    "# Rename columns for clarity\n",
    "rfm.rename(columns={\n",
    "    'InvoiceDate': 'Recency',\n",
    "    'InvoiceNo': 'Frequency',\n",
    "    'TotalPrice': 'Monetary'\n",
    "}, inplace=True)\n",
    "\n",
    "print(rfm)"
   ]
  },
  {
   "cell_type": "markdown",
   "metadata": {},
   "source": [
    "#### Segment Customers"
   ]
  },
  {
   "cell_type": "code",
   "execution_count": 31,
   "metadata": {},
   "outputs": [],
   "source": [
    "# Define quantile-based thresholds for all three RFM metrics\n",
    "quantiles = rfm[['Recency', 'Frequency', 'Monetary']].quantile([0.33, 0.66]).to_dict()\n",
    "\n",
    "def segment_customer(row):\n",
    "    # Recency segmentation: lower recency is better (closer purchases)\n",
    "    if row['Recency'] <= quantiles['Recency'][0.33]:\n",
    "        recency_score = 'High'\n",
    "    elif row['Recency'] <= quantiles['Recency'][0.66]:\n",
    "        recency_score = 'Medium'\n",
    "    else:\n",
    "        recency_score = 'Low'\n",
    "\n",
    "    # Frequency segmentation: higher frequency is better\n",
    "    if row['Frequency'] >= quantiles['Frequency'][0.66]:\n",
    "        frequency_score = 'High'\n",
    "    elif row['Frequency'] >= quantiles['Frequency'][0.33]:\n",
    "        frequency_score = 'Medium'\n",
    "    else:\n",
    "        frequency_score = 'Low'\n",
    "\n",
    "    # Monetary segmentation: higher monetary is better\n",
    "    if row['Monetary'] >= quantiles['Monetary'][0.66]:\n",
    "        monetary_score = 'High'\n",
    "    elif row['Monetary'] >= quantiles['Monetary'][0.33]:\n",
    "        monetary_score = 'Medium'\n",
    "    else:\n",
    "        monetary_score = 'Low'\n",
    "\n",
    "    # Combine scores into a single segment\n",
    "    if recency_score == 'High' and frequency_score == 'High' and monetary_score == 'High':\n",
    "        return 'High'\n",
    "    elif (\n",
    "        (recency_score == 'Medium' and frequency_score in ['High', 'Medium'] and monetary_score in ['High', 'Medium']) or\n",
    "        (frequency_score == 'Medium' and recency_score in ['High', 'Medium'] and monetary_score in ['High', 'Medium']) or\n",
    "        (monetary_score == 'Medium' and recency_score in ['High', 'Medium'] and frequency_score in ['High', 'Medium'])\n",
    "    ):\n",
    "        return 'Medium'\n",
    "    else:\n",
    "        return 'Low'\n",
    "\n",
    "# Apply the updated segmentation\n",
    "rfm['Segment'] = rfm.apply(segment_customer, axis=1)\n",
    "\n"
   ]
  },
  {
   "cell_type": "markdown",
   "metadata": {},
   "source": [
    "#### Visualize Customer Distribution"
   ]
  },
  {
   "cell_type": "code",
   "execution_count": 32,
   "metadata": {},
   "outputs": [
    {
     "name": "stderr",
     "output_type": "stream",
     "text": [
      "C:\\Users\\Dell\\AppData\\Local\\Temp\\ipykernel_82556\\3636235019.py:5: FutureWarning: \n",
      "\n",
      "Passing `palette` without assigning `hue` is deprecated and will be removed in v0.14.0. Assign the `x` variable to `hue` and set `legend=False` for the same effect.\n",
      "\n",
      "  sns.countplot(data=rfm, x='Segment', palette='viridis', order=segment_order)\n",
      "C:\\Users\\Dell\\AppData\\Local\\Temp\\ipykernel_82556\\3636235019.py:8: FutureWarning: \n",
      "\n",
      "Passing `palette` without assigning `hue` is deprecated and will be removed in v0.14.0. Assign the `x` variable to `hue` and set `legend=False` for the same effect.\n",
      "\n",
      "  sns.countplot(data=rfm, x='Segment', palette='viridis')\n"
     ]
    },
    {
     "data": {
      "image/png": "[encoded data removed]",
      "text/plain": [
       "<Figure size 640x480 with 1 Axes>"
      ]
     },
     "metadata": {},
     "output_type": "display_data"
    }
   ],
   "source": [
    "# Define the desired order of segments\n",
    "segment_order = ['Low', 'Medium', 'High']\n",
    "\n",
    "# Plot the distribution with sorted segments\n",
    "sns.countplot(data=rfm, x='Segment', palette='viridis', order=segment_order)\n",
    "\n",
    "# Plot the distribution\n",
    "sns.countplot(data=rfm, x='Segment', palette='viridis')\n",
    "plt.title('Customer Distribution by Segment')\n",
    "plt.xlabel('Segment')\n",
    "plt.ylabel('Number of Customers')\n",
    "plt.show()"
   ]
  }
 ],
 "metadata": {
  "kernelspec": {
   "display_name": "Python 3",
   "language": "python",
   "name": "python3"
  },
  "language_info": {
   "codemirror_mode": {
    "name": "ipython",
    "version": 3
   },
   "file_extension": ".py",
   "mimetype": "text/x-python",
   "name": "python",
   "nbconvert_exporter": "python",
   "pygments_lexer": "ipython3",
   "version": "3.11.3"
  }
 },
 "nbformat": 4,
 "nbformat_minor": 2
}
